{
 "cells": [
  {
   "metadata": {},
   "cell_type": "markdown",
   "source": "## Initialization",
   "id": "5eec4b07ccd6467b"
  },
  {
   "metadata": {
    "ExecuteTime": {
     "end_time": "2024-06-08T09:20:10.439257Z",
     "start_time": "2024-06-08T09:20:03.465511Z"
    }
   },
   "cell_type": "code",
   "source": [
    "import keras\n",
    "import numpy as np\n",
    "from sklearn.datasets import load_breast_cancer\n",
    "from sklearn.model_selection import train_test_split\n",
    "import matplotlib.pyplot as plt\n",
    "from sklearn.preprocessing import StandardScaler"
   ],
   "id": "3cd1576f7fa2e5f1",
   "outputs": [
    {
     "name": "stdout",
     "output_type": "stream",
     "text": [
      "WARNING:tensorflow:From C:\\Users\\Snapp_Kitchen\\anaconda3\\lib\\site-packages\\keras\\src\\losses.py:2976: The name tf.losses.sparse_softmax_cross_entropy is deprecated. Please use tf.compat.v1.losses.sparse_softmax_cross_entropy instead.\n",
      "\n"
     ]
    }
   ],
   "execution_count": 1
  },
  {
   "metadata": {},
   "cell_type": "markdown",
   "source": "## Data Loading",
   "id": "6642755df3591c70"
  },
  {
   "metadata": {
    "ExecuteTime": {
     "end_time": "2024-06-08T09:20:10.470483Z",
     "start_time": "2024-06-08T09:20:10.440569Z"
    }
   },
   "cell_type": "code",
   "source": [
    "cancer = load_breast_cancer()\n",
    "X = cancer.data\n",
    "y = cancer.target\n",
    "label = np.zeros((len(y), 2))\n",
    "label[np.where(y == 1), 1] = 1\n",
    "label[np.where(y == 0), 0] = 0\n",
    "\n",
    "Xtrain, Xtest, y_train, y_test = train_test_split(X, label, test_size=0.2, random_state=2)\n",
    "scalerX = StandardScaler().fit(Xtrain)\n",
    "X_train, X_test = scalerX.transform(Xtrain), scalerX.transform(Xtest)"
   ],
   "id": "6a00197ca9e65ee3",
   "outputs": [],
   "execution_count": 2
  },
  {
   "metadata": {
    "ExecuteTime": {
     "end_time": "2024-06-08T09:20:10.767760Z",
     "start_time": "2024-06-08T09:20:10.472826Z"
    }
   },
   "cell_type": "code",
   "source": [
    "print(X_train.shape)\n",
    "model = keras.models.Sequential()\n",
    "model.add(keras.layers.Dense(10, input_shape=(X_train.shape[1],), activation='tanh'))\n",
    "model.add(keras.layers.Dense(2 , activation='sigmoid'))\n",
    "model.summary()"
   ],
   "id": "8e0d9d0e6930570a",
   "outputs": [
    {
     "name": "stdout",
     "output_type": "stream",
     "text": [
      "(455, 30)\n",
      "WARNING:tensorflow:From C:\\Users\\Snapp_Kitchen\\anaconda3\\lib\\site-packages\\keras\\src\\backend.py:873: The name tf.get_default_graph is deprecated. Please use tf.compat.v1.get_default_graph instead.\n",
      "\n",
      "Model: \"sequential\"\n",
      "_________________________________________________________________\n",
      " Layer (type)                Output Shape              Param #   \n",
      "=================================================================\n",
      " dense (Dense)               (None, 10)                310       \n",
      "                                                                 \n",
      " dense_1 (Dense)             (None, 2)                 22        \n",
      "                                                                 \n",
      "=================================================================\n",
      "Total params: 332 (1.30 KB)\n",
      "Trainable params: 332 (1.30 KB)\n",
      "Non-trainable params: 0 (0.00 Byte)\n",
      "_________________________________________________________________\n"
     ]
    }
   ],
   "execution_count": 3
  },
  {
   "metadata": {},
   "cell_type": "markdown",
   "source": "## Initial weights",
   "id": "2c7f3ad783c3eb27"
  },
  {
   "metadata": {
    "ExecuteTime": {
     "end_time": "2024-06-08T09:20:10.799780Z",
     "start_time": "2024-06-08T09:20:10.769807Z"
    }
   },
   "cell_type": "code",
   "source": [
    "print(model.weights)\n",
    "print(model.weights[0].shape)\n",
    "print(model.weights[1].shape)"
   ],
   "id": "824d8473105c361c",
   "outputs": [
    {
     "name": "stdout",
     "output_type": "stream",
     "text": [
      "[<tf.Variable 'dense/kernel:0' shape=(30, 10) dtype=float32, numpy=\n",
      "array([[ 0.322847  ,  0.28104484, -0.2652586 , -0.19789483, -0.33077812,\n",
      "        -0.31648108,  0.05297828,  0.03282166,  0.2117579 ,  0.25404328],\n",
      "       [-0.36050513,  0.0823977 ,  0.03267595, -0.33382568, -0.20315263,\n",
      "        -0.18852869, -0.3586759 ,  0.24963826,  0.11250082, -0.2157258 ],\n",
      "       [ 0.32163358, -0.29769495, -0.11466673,  0.35849923, -0.2576486 ,\n",
      "         0.23502064,  0.3593642 , -0.17858256,  0.13324213,  0.22085655],\n",
      "       [-0.26698813, -0.10234508, -0.07688332, -0.21258304,  0.04477432,\n",
      "        -0.11628902, -0.18201602, -0.22020988,  0.23705041,  0.37787127],\n",
      "       [ 0.21080792,  0.19771707, -0.23164414, -0.32157746,  0.16489899,\n",
      "         0.00142729, -0.25970066, -0.01956868, -0.04731384,  0.0774208 ],\n",
      "       [-0.01112512,  0.19171405,  0.15660888, -0.0918116 ,  0.29446435,\n",
      "         0.26362985, -0.01585177, -0.05592048,  0.16720545,  0.35791075],\n",
      "       [-0.20407657,  0.00339493,  0.26859897,  0.33268994, -0.35201722,\n",
      "         0.32640982, -0.24672367, -0.0023551 , -0.2883903 , -0.30209842],\n",
      "       [ 0.02797413,  0.13331783,  0.31095326,  0.24741483,  0.23712659,\n",
      "        -0.34883475,  0.1415171 , -0.26033998,  0.10250288,  0.1551491 ],\n",
      "       [ 0.3291331 ,  0.14524221,  0.17370892, -0.28754392, -0.38350773,\n",
      "         0.21108633, -0.03306979,  0.09080538, -0.1410555 ,  0.05661255],\n",
      "       [-0.3761723 , -0.37540367, -0.19006419,  0.18471259, -0.3857415 ,\n",
      "        -0.01459271,  0.32065064, -0.1095888 , -0.24405165,  0.11036935],\n",
      "       [ 0.06482437, -0.33502987,  0.11874324,  0.2069568 , -0.26404345,\n",
      "         0.33658046, -0.07558417,  0.11020952, -0.06437513,  0.08182049],\n",
      "       [ 0.25334007,  0.31609416,  0.08232126, -0.08077273, -0.10380745,\n",
      "         0.20303738, -0.03346777, -0.11669201, -0.31204206,  0.3540169 ],\n",
      "       [ 0.24274683,  0.208359  ,  0.18281114,  0.09054738,  0.34905666,\n",
      "         0.33988637,  0.00069422,  0.07072678,  0.150962  ,  0.13398278],\n",
      "       [ 0.25550097,  0.27917248,  0.13406396,  0.06215069,  0.30165803,\n",
      "        -0.31600848,  0.08122021, -0.3214311 ,  0.07652661, -0.2499994 ],\n",
      "       [-0.21115834,  0.10874835, -0.32595995,  0.05346215, -0.26048893,\n",
      "         0.16667628,  0.3632502 ,  0.05868512,  0.05278289, -0.13654888],\n",
      "       [ 0.09405378, -0.37456727,  0.31042492, -0.12896413,  0.23936194,\n",
      "        -0.10291445, -0.33618513,  0.02999118, -0.01279321, -0.14478691],\n",
      "       [-0.23934725,  0.37916678,  0.05779064,  0.26357067, -0.34736952,\n",
      "        -0.32234192,  0.30028033,  0.09709451, -0.01393563, -0.2069414 ],\n",
      "       [-0.32233694,  0.13005763,  0.02788705,  0.06949905,  0.17764258,\n",
      "         0.03543809, -0.14155513,  0.00311616,  0.2628516 ,  0.2247858 ],\n",
      "       [-0.00482231, -0.0955455 , -0.02008709, -0.2850033 , -0.23966259,\n",
      "        -0.32555977,  0.05393797,  0.09003767, -0.24263813,  0.36235523],\n",
      "       [-0.22430429, -0.00427631,  0.15316916, -0.26449776, -0.37182674,\n",
      "        -0.11119163,  0.20084828, -0.06486851, -0.2962141 ,  0.29536498],\n",
      "       [ 0.11713344,  0.3290922 , -0.1380167 , -0.16248435,  0.16750085,\n",
      "         0.17060846,  0.01309583, -0.26598746, -0.37762147,  0.19420701],\n",
      "       [-0.02586937,  0.19149232,  0.0139083 , -0.0958783 , -0.26126006,\n",
      "         0.3469236 , -0.33924958, -0.33158147, -0.36149564,  0.23996425],\n",
      "       [-0.3709753 , -0.09535474, -0.3458268 ,  0.37233073, -0.13608846,\n",
      "        -0.32946986,  0.31016648,  0.22756422, -0.30037242,  0.07104045],\n",
      "       [ 0.3359517 , -0.05393472,  0.28463846,  0.36952406,  0.38065106,\n",
      "        -0.21698706,  0.09786728,  0.3313198 ,  0.09344119, -0.2152207 ],\n",
      "       [ 0.02231181, -0.17276336, -0.20883249,  0.2398454 ,  0.1580466 ,\n",
      "        -0.2649771 , -0.09256738,  0.30880296, -0.37941334, -0.15142138],\n",
      "       [ 0.15597767,  0.24853581,  0.21677256,  0.3183887 ,  0.09853637,\n",
      "        -0.17709304,  0.33458114,  0.12325943,  0.2985565 ,  0.17920464],\n",
      "       [-0.02796581, -0.11690244,  0.22528094, -0.07849988,  0.13130844,\n",
      "         0.05794382, -0.06934798, -0.15078793,  0.33396357,  0.23811847],\n",
      "       [ 0.3134151 , -0.05316287, -0.3652243 , -0.18660693,  0.16960377,\n",
      "         0.32618856,  0.21544969,  0.17061794,  0.15184206, -0.03258261],\n",
      "       [ 0.0485425 ,  0.2697801 , -0.146959  ,  0.03865418,  0.00649005,\n",
      "         0.10763204,  0.08185855,  0.12475848, -0.01809514,  0.3500905 ],\n",
      "       [-0.04982129, -0.3631262 , -0.22670482, -0.29679355, -0.27009895,\n",
      "        -0.00401166, -0.2276755 ,  0.1142922 , -0.13759074,  0.24420881]],\n",
      "      dtype=float32)>, <tf.Variable 'dense/bias:0' shape=(10,) dtype=float32, numpy=array([0., 0., 0., 0., 0., 0., 0., 0., 0., 0.], dtype=float32)>, <tf.Variable 'dense_1/kernel:0' shape=(10, 2) dtype=float32, numpy=\n",
      "array([[-0.17075056, -0.11734593],\n",
      "       [-0.06307143,  0.55643266],\n",
      "       [ 0.24454021,  0.5732799 ],\n",
      "       [ 0.5780863 ,  0.53307515],\n",
      "       [ 0.46428818, -0.4151129 ],\n",
      "       [ 0.3912465 ,  0.6841199 ],\n",
      "       [ 0.03137648, -0.43721488],\n",
      "       [ 0.6731344 ,  0.13468295],\n",
      "       [-0.14184356, -0.15841919],\n",
      "       [ 0.57891685,  0.5993394 ]], dtype=float32)>, <tf.Variable 'dense_1/bias:0' shape=(2,) dtype=float32, numpy=array([0., 0.], dtype=float32)>]\n",
      "(30, 10)\n",
      "(10,)\n"
     ]
    }
   ],
   "execution_count": 4
  },
  {
   "metadata": {},
   "cell_type": "markdown",
   "source": "## Compile and train the model",
   "id": "cad7664864b2c23e"
  },
  {
   "metadata": {
    "ExecuteTime": {
     "end_time": "2024-06-08T09:20:14.063522Z",
     "start_time": "2024-06-08T09:20:10.801781Z"
    }
   },
   "cell_type": "code",
   "source": [
    "model.compile(loss = 'binary_crossentropy', metrics=['accuracy'], optimizer='SGD')\n",
    "model.fit(X_train , y_train , validation_data=(X_test , y_test ), epochs=20 , batch_size=10)"
   ],
   "id": "8eac71a5978294a9",
   "outputs": [
    {
     "name": "stdout",
     "output_type": "stream",
     "text": [
      "WARNING:tensorflow:From C:\\Users\\Snapp_Kitchen\\anaconda3\\lib\\site-packages\\keras\\src\\optimizers\\__init__.py:309: The name tf.train.Optimizer is deprecated. Please use tf.compat.v1.train.Optimizer instead.\n",
      "\n",
      "Epoch 1/20\n",
      "WARNING:tensorflow:From C:\\Users\\Snapp_Kitchen\\anaconda3\\lib\\site-packages\\keras\\src\\utils\\tf_utils.py:492: The name tf.ragged.RaggedTensorValue is deprecated. Please use tf.compat.v1.ragged.RaggedTensorValue instead.\n",
      "\n",
      "WARNING:tensorflow:From C:\\Users\\Snapp_Kitchen\\anaconda3\\lib\\site-packages\\keras\\src\\engine\\base_layer_utils.py:384: The name tf.executing_eagerly_outside_functions is deprecated. Please use tf.compat.v1.executing_eagerly_outside_functions instead.\n",
      "\n",
      "46/46 [==============================] - 1s 6ms/step - loss: 0.7701 - accuracy: 0.5385 - val_loss: 0.6519 - val_accuracy: 0.6930\n",
      "Epoch 2/20\n",
      "46/46 [==============================] - 0s 3ms/step - loss: 0.5657 - accuracy: 0.7275 - val_loss: 0.5207 - val_accuracy: 0.8158\n",
      "Epoch 3/20\n",
      "46/46 [==============================] - 0s 3ms/step - loss: 0.4695 - accuracy: 0.8374 - val_loss: 0.4450 - val_accuracy: 0.9035\n",
      "Epoch 4/20\n",
      "46/46 [==============================] - 0s 3ms/step - loss: 0.4081 - accuracy: 0.8703 - val_loss: 0.3924 - val_accuracy: 0.9386\n",
      "Epoch 5/20\n",
      "46/46 [==============================] - 0s 3ms/step - loss: 0.3628 - accuracy: 0.8857 - val_loss: 0.3524 - val_accuracy: 0.9474\n",
      "Epoch 6/20\n",
      "46/46 [==============================] - 0s 3ms/step - loss: 0.3272 - accuracy: 0.9011 - val_loss: 0.3199 - val_accuracy: 0.9561\n",
      "Epoch 7/20\n",
      "46/46 [==============================] - 0s 3ms/step - loss: 0.2978 - accuracy: 0.9099 - val_loss: 0.2928 - val_accuracy: 0.9649\n",
      "Epoch 8/20\n",
      "46/46 [==============================] - 0s 2ms/step - loss: 0.2730 - accuracy: 0.9121 - val_loss: 0.2700 - val_accuracy: 0.9649\n",
      "Epoch 9/20\n",
      "46/46 [==============================] - 0s 2ms/step - loss: 0.2518 - accuracy: 0.9143 - val_loss: 0.2504 - val_accuracy: 0.9561\n",
      "Epoch 10/20\n",
      "46/46 [==============================] - 0s 2ms/step - loss: 0.2334 - accuracy: 0.9121 - val_loss: 0.2334 - val_accuracy: 0.9561\n",
      "Epoch 11/20\n",
      "46/46 [==============================] - 0s 3ms/step - loss: 0.2174 - accuracy: 0.9121 - val_loss: 0.2185 - val_accuracy: 0.9561\n",
      "Epoch 12/20\n",
      "46/46 [==============================] - 0s 2ms/step - loss: 0.2034 - accuracy: 0.9165 - val_loss: 0.2055 - val_accuracy: 0.9474\n",
      "Epoch 13/20\n",
      "46/46 [==============================] - 0s 2ms/step - loss: 0.1911 - accuracy: 0.9187 - val_loss: 0.1940 - val_accuracy: 0.9474\n",
      "Epoch 14/20\n",
      "46/46 [==============================] - 0s 3ms/step - loss: 0.1801 - accuracy: 0.9187 - val_loss: 0.1837 - val_accuracy: 0.9474\n",
      "Epoch 15/20\n",
      "46/46 [==============================] - 0s 2ms/step - loss: 0.1704 - accuracy: 0.9165 - val_loss: 0.1745 - val_accuracy: 0.9474\n",
      "Epoch 16/20\n",
      "46/46 [==============================] - 0s 2ms/step - loss: 0.1617 - accuracy: 0.9121 - val_loss: 0.1662 - val_accuracy: 0.9386\n",
      "Epoch 17/20\n",
      "46/46 [==============================] - 0s 2ms/step - loss: 0.1538 - accuracy: 0.9121 - val_loss: 0.1588 - val_accuracy: 0.9386\n",
      "Epoch 18/20\n",
      "46/46 [==============================] - 0s 2ms/step - loss: 0.1466 - accuracy: 0.9077 - val_loss: 0.1521 - val_accuracy: 0.9386\n",
      "Epoch 19/20\n",
      "46/46 [==============================] - 0s 2ms/step - loss: 0.1402 - accuracy: 0.9077 - val_loss: 0.1460 - val_accuracy: 0.9386\n",
      "Epoch 20/20\n",
      "46/46 [==============================] - 0s 2ms/step - loss: 0.1343 - accuracy: 0.9011 - val_loss: 0.1405 - val_accuracy: 0.9298\n"
     ]
    },
    {
     "data": {
      "text/plain": [
       "<keras.src.callbacks.History at 0x1fe5437dcc0>"
      ]
     },
     "execution_count": 5,
     "metadata": {},
     "output_type": "execute_result"
    }
   ],
   "execution_count": 5
  },
  {
   "metadata": {
    "ExecuteTime": {
     "end_time": "2024-06-08T09:20:14.251283Z",
     "start_time": "2024-06-08T09:20:14.065440Z"
    }
   },
   "cell_type": "code",
   "source": [
    "y_pre = model.predict(X_test)\n",
    "y_pre = np.argmax(y_pre, axis=1)"
   ],
   "id": "dca0df3d6d3aa74d",
   "outputs": [
    {
     "name": "stdout",
     "output_type": "stream",
     "text": [
      "4/4 [==============================] - 0s 2ms/step\n"
     ]
    }
   ],
   "execution_count": 6
  },
  {
   "metadata": {
    "ExecuteTime": {
     "end_time": "2024-06-08T09:20:14.266532Z",
     "start_time": "2024-06-08T09:20:14.252282Z"
    }
   },
   "cell_type": "code",
   "source": [
    "from sklearn.metrics import confusion_matrix\n",
    "confusion_matrix(y_pre , np.argmax(y_test, axis=1)).T"
   ],
   "id": "f47fc1741f94f572",
   "outputs": [
    {
     "data": {
      "text/plain": [
       "array([[37,  8],\n",
       "       [ 0, 69]], dtype=int64)"
      ]
     },
     "execution_count": 7,
     "metadata": {},
     "output_type": "execute_result"
    }
   ],
   "execution_count": 7
  }
 ],
 "metadata": {
  "kernelspec": {
   "display_name": "Python 3",
   "language": "python",
   "name": "python3"
  },
  "language_info": {
   "codemirror_mode": {
    "name": "ipython",
    "version": 2
   },
   "file_extension": ".py",
   "mimetype": "text/x-python",
   "name": "python",
   "nbconvert_exporter": "python",
   "pygments_lexer": "ipython2",
   "version": "2.7.6"
  }
 },
 "nbformat": 4,
 "nbformat_minor": 5
}
