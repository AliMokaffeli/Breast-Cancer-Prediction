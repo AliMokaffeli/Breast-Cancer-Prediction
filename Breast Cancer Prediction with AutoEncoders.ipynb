{
 "cells": [
  {
   "metadata": {},
   "cell_type": "markdown",
   "source": "## Initialization",
   "id": "257d5728a411352"
  },
  {
   "metadata": {
    "ExecuteTime": {
     "end_time": "2024-06-25T11:55:57.826355Z",
     "start_time": "2024-06-25T11:55:49.837324Z"
    }
   },
   "cell_type": "code",
   "source": [
    "import keras\n",
    "from sklearn.metrics import confusion_matrix\n",
    "from sklearn.datasets import load_breast_cancer\n",
    "from sklearn.model_selection import train_test_split\n",
    "from sklearn.preprocessing import StandardScaler\n",
    "import numpy as np\n",
    "import matplotlib.pyplot as plt"
   ],
   "id": "initial_id",
   "outputs": [
    {
     "name": "stdout",
     "output_type": "stream",
     "text": [
      "WARNING:tensorflow:From C:\\Users\\Snapp_Kitchen\\anaconda3\\lib\\site-packages\\keras\\src\\losses.py:2976: The name tf.losses.sparse_softmax_cross_entropy is deprecated. Please use tf.compat.v1.losses.sparse_softmax_cross_entropy instead.\n",
      "\n"
     ]
    }
   ],
   "execution_count": 1
  },
  {
   "metadata": {},
   "cell_type": "markdown",
   "source": "## Data Loading-Train Test Splitting",
   "id": "e7d3e03e079c1dbe"
  },
  {
   "metadata": {
    "ExecuteTime": {
     "end_time": "2024-06-25T11:55:57.858355Z",
     "start_time": "2024-06-25T11:55:57.830356Z"
    }
   },
   "cell_type": "code",
   "source": [
    "data = load_breast_cancer()\n",
    "X = data.data\n",
    "y = data.target\n",
    "label = np.zeros((len(y), 2))\n",
    "label[np.where(y == 1), 1] = 1\n",
    "label[np.where(y == 0), 0] = 1\n",
    "X_train, X_test, y_train, y_test = train_test_split(X, label, test_size=0.3, shuffle=False)"
   ],
   "id": "2920eab9a9e714a8",
   "outputs": [],
   "execution_count": 2
  },
  {
   "metadata": {},
   "cell_type": "markdown",
   "source": "## Normalization",
   "id": "4be0b88ed70212d6"
  },
  {
   "metadata": {
    "ExecuteTime": {
     "end_time": "2024-06-25T11:55:57.874373Z",
     "start_time": "2024-06-25T11:55:57.860373Z"
    }
   },
   "cell_type": "code",
   "source": [
    "scaler = StandardScaler().fit(X_train)\n",
    "X_train, X_test = scaler.transform(X_train), scaler.transform(X_test)"
   ],
   "id": "7f144553f80bb760",
   "outputs": [],
   "execution_count": 3
  },
  {
   "metadata": {},
   "cell_type": "markdown",
   "source": "## Modeling - AutoEncoder",
   "id": "3345f0005dfb22af"
  },
  {
   "metadata": {
    "ExecuteTime": {
     "end_time": "2024-06-25T11:55:58.203623Z",
     "start_time": "2024-06-25T11:55:57.875357Z"
    }
   },
   "cell_type": "code",
   "source": [
    "input_x = keras.Input(shape=(X_train.shape[1],))\n",
    "encoder = keras.layers.Dense(7, activation='sigmoid')(input_x)\n",
    "model_encoder = keras.Model(input_x, encoder)\n",
    "decoder = keras.layers.Dense(X_train.shape[1], activation='linear')(encoder)\n",
    "model = keras.Model(input_x, decoder)\n",
    "model.summary()"
   ],
   "id": "c9ab26f29bdd50ef",
   "outputs": [
    {
     "name": "stdout",
     "output_type": "stream",
     "text": [
      "WARNING:tensorflow:From C:\\Users\\Snapp_Kitchen\\anaconda3\\lib\\site-packages\\keras\\src\\backend.py:1398: The name tf.executing_eagerly_outside_functions is deprecated. Please use tf.compat.v1.executing_eagerly_outside_functions instead.\n",
      "\n",
      "Model: \"model_1\"\n",
      "_________________________________________________________________\n",
      " Layer (type)                Output Shape              Param #   \n",
      "=================================================================\n",
      " input_1 (InputLayer)        [(None, 30)]              0         \n",
      "                                                                 \n",
      " dense (Dense)               (None, 7)                 217       \n",
      "                                                                 \n",
      " dense_1 (Dense)             (None, 30)                240       \n",
      "                                                                 \n",
      "=================================================================\n",
      "Total params: 457 (1.79 KB)\n",
      "Trainable params: 457 (1.79 KB)\n",
      "Non-trainable params: 0 (0.00 Byte)\n",
      "_________________________________________________________________\n"
     ]
    }
   ],
   "execution_count": 4
  },
  {
   "metadata": {},
   "cell_type": "markdown",
   "source": "## Classification",
   "id": "146e7063f4a3d065"
  },
  {
   "metadata": {
    "ExecuteTime": {
     "end_time": "2024-06-25T11:56:04.056001Z",
     "start_time": "2024-06-25T11:55:58.206147Z"
    }
   },
   "cell_type": "code",
   "source": [
    "transformed_X_train = model_encoder(X_train)\n",
    "transformed_X_test = model_encoder(X_test)\n",
    "classifier = keras.Sequential()\n",
    "classifier.add(keras.layers.Dense(10, input_shape=(transformed_X_train.shape[1],), activation='sigmoid'))\n",
    "classifier.add(keras.layers.Dense(2, activation='sigmoid'))\n",
    "optimizer = keras.optimizers.Adam(lr=0.01)\n",
    "classifier.compile(loss='binary_crossentropy', optimizer=optimizer, metrics='accuracy')\n",
    "history = classifier.fit(transformed_X_train, y_train, validation_data=(transformed_X_test, y_test), epochs=60)\n",
    "# Plot accuracy during training\n",
    "plt.plot(history.history['accuracy'], label='Train Accuracy')\n",
    "plt.plot(history.history['val_accuracy'], label='Test Accuracy')\n",
    "plt.xlabel('Epoch')\n",
    "plt.ylabel('Accuracy')\n",
    "plt.legend()\n",
    "plt.show()"
   ],
   "id": "fd0cca85d121a53a",
   "outputs": [
    {
     "name": "stderr",
     "output_type": "stream",
     "text": [
      "WARNING:absl:`lr` is deprecated in Keras optimizer, please use `learning_rate` or use the legacy optimizer, e.g.,tf.keras.optimizers.legacy.Adam.\n"
     ]
    },
    {
     "name": "stdout",
     "output_type": "stream",
     "text": [
      "Epoch 1/60\n",
      "WARNING:tensorflow:From C:\\Users\\Snapp_Kitchen\\anaconda3\\lib\\site-packages\\keras\\src\\utils\\tf_utils.py:492: The name tf.ragged.RaggedTensorValue is deprecated. Please use tf.compat.v1.ragged.RaggedTensorValue instead.\n",
      "\n"
     ]
    },
    {
     "name": "stderr",
     "output_type": "stream",
     "text": [
      "WARNING:tensorflow:From C:\\Users\\Snapp_Kitchen\\anaconda3\\lib\\site-packages\\keras\\src\\utils\\tf_utils.py:492: The name tf.ragged.RaggedTensorValue is deprecated. Please use tf.compat.v1.ragged.RaggedTensorValue instead.\n",
      "\n"
     ]
    },
    {
     "name": "stdout",
     "output_type": "stream",
     "text": [
      "WARNING:tensorflow:From C:\\Users\\Snapp_Kitchen\\anaconda3\\lib\\site-packages\\keras\\src\\engine\\base_layer_utils.py:384: The name tf.executing_eagerly_outside_functions is deprecated. Please use tf.compat.v1.executing_eagerly_outside_functions instead.\n",
      "\n"
     ]
    },
    {
     "name": "stderr",
     "output_type": "stream",
     "text": [
      "WARNING:tensorflow:From C:\\Users\\Snapp_Kitchen\\anaconda3\\lib\\site-packages\\keras\\src\\engine\\base_layer_utils.py:384: The name tf.executing_eagerly_outside_functions is deprecated. Please use tf.compat.v1.executing_eagerly_outside_functions instead.\n",
      "\n"
     ]
    },
    {
     "name": "stdout",
     "output_type": "stream",
     "text": [
      "13/13 [==============================] - 1s 18ms/step - loss: 0.7417 - accuracy: 0.4347 - val_loss: 0.7817 - val_accuracy: 0.2281\n",
      "Epoch 2/60\n",
      "13/13 [==============================] - 0s 6ms/step - loss: 0.7241 - accuracy: 0.4347 - val_loss: 0.7534 - val_accuracy: 0.2281\n",
      "Epoch 3/60\n",
      "13/13 [==============================] - 0s 4ms/step - loss: 0.7084 - accuracy: 0.4347 - val_loss: 0.7291 - val_accuracy: 0.2398\n",
      "Epoch 4/60\n",
      "13/13 [==============================] - 0s 5ms/step - loss: 0.6951 - accuracy: 0.4472 - val_loss: 0.7074 - val_accuracy: 0.3801\n",
      "Epoch 5/60\n",
      "13/13 [==============================] - 0s 5ms/step - loss: 0.6845 - accuracy: 0.6583 - val_loss: 0.6854 - val_accuracy: 0.7076\n",
      "Epoch 6/60\n",
      "13/13 [==============================] - 0s 5ms/step - loss: 0.6742 - accuracy: 0.8442 - val_loss: 0.6718 - val_accuracy: 0.8421\n",
      "Epoch 7/60\n",
      "13/13 [==============================] - 0s 7ms/step - loss: 0.6670 - accuracy: 0.8744 - val_loss: 0.6572 - val_accuracy: 0.9123\n",
      "Epoch 8/60\n",
      "13/13 [==============================] - 0s 8ms/step - loss: 0.6603 - accuracy: 0.8568 - val_loss: 0.6451 - val_accuracy: 0.9240\n",
      "Epoch 9/60\n",
      "13/13 [==============================] - 0s 8ms/step - loss: 0.6550 - accuracy: 0.8241 - val_loss: 0.6340 - val_accuracy: 0.9357\n",
      "Epoch 10/60\n",
      "13/13 [==============================] - 0s 8ms/step - loss: 0.6501 - accuracy: 0.7613 - val_loss: 0.6241 - val_accuracy: 0.9006\n",
      "Epoch 11/60\n",
      "13/13 [==============================] - 0s 6ms/step - loss: 0.6458 - accuracy: 0.7236 - val_loss: 0.6177 - val_accuracy: 0.8947\n",
      "Epoch 12/60\n",
      "13/13 [==============================] - 0s 4ms/step - loss: 0.6422 - accuracy: 0.7035 - val_loss: 0.6086 - val_accuracy: 0.8655\n",
      "Epoch 13/60\n",
      "13/13 [==============================] - 0s 5ms/step - loss: 0.6389 - accuracy: 0.6734 - val_loss: 0.6013 - val_accuracy: 0.8538\n",
      "Epoch 14/60\n",
      "13/13 [==============================] - 0s 6ms/step - loss: 0.6355 - accuracy: 0.6709 - val_loss: 0.5970 - val_accuracy: 0.8538\n",
      "Epoch 15/60\n",
      "13/13 [==============================] - 0s 5ms/step - loss: 0.6327 - accuracy: 0.6633 - val_loss: 0.5902 - val_accuracy: 0.8421\n",
      "Epoch 16/60\n",
      "13/13 [==============================] - 0s 4ms/step - loss: 0.6295 - accuracy: 0.6508 - val_loss: 0.5859 - val_accuracy: 0.8480\n",
      "Epoch 17/60\n",
      "13/13 [==============================] - 0s 5ms/step - loss: 0.6268 - accuracy: 0.6482 - val_loss: 0.5795 - val_accuracy: 0.8421\n",
      "Epoch 18/60\n",
      "13/13 [==============================] - 0s 4ms/step - loss: 0.6239 - accuracy: 0.6583 - val_loss: 0.5783 - val_accuracy: 0.8538\n",
      "Epoch 19/60\n",
      "13/13 [==============================] - 0s 4ms/step - loss: 0.6207 - accuracy: 0.6709 - val_loss: 0.5746 - val_accuracy: 0.8538\n",
      "Epoch 20/60\n",
      "13/13 [==============================] - 0s 5ms/step - loss: 0.6179 - accuracy: 0.6859 - val_loss: 0.5714 - val_accuracy: 0.8713\n",
      "Epoch 21/60\n",
      "13/13 [==============================] - 0s 4ms/step - loss: 0.6148 - accuracy: 0.7010 - val_loss: 0.5686 - val_accuracy: 0.8713\n",
      "Epoch 22/60\n",
      "13/13 [==============================] - 0s 5ms/step - loss: 0.6118 - accuracy: 0.7060 - val_loss: 0.5635 - val_accuracy: 0.8713\n",
      "Epoch 23/60\n",
      "13/13 [==============================] - 0s 5ms/step - loss: 0.6085 - accuracy: 0.7111 - val_loss: 0.5603 - val_accuracy: 0.8889\n",
      "Epoch 24/60\n",
      "13/13 [==============================] - 0s 11ms/step - loss: 0.6053 - accuracy: 0.7186 - val_loss: 0.5568 - val_accuracy: 0.8889\n",
      "Epoch 25/60\n",
      "13/13 [==============================] - 0s 7ms/step - loss: 0.6019 - accuracy: 0.7236 - val_loss: 0.5539 - val_accuracy: 0.9064\n",
      "Epoch 26/60\n",
      "13/13 [==============================] - 0s 5ms/step - loss: 0.5986 - accuracy: 0.7312 - val_loss: 0.5504 - val_accuracy: 0.9123\n",
      "Epoch 27/60\n",
      "13/13 [==============================] - 0s 4ms/step - loss: 0.5951 - accuracy: 0.7362 - val_loss: 0.5450 - val_accuracy: 0.9123\n",
      "Epoch 28/60\n",
      "13/13 [==============================] - 0s 5ms/step - loss: 0.5915 - accuracy: 0.7387 - val_loss: 0.5411 - val_accuracy: 0.9123\n",
      "Epoch 29/60\n",
      "13/13 [==============================] - 0s 5ms/step - loss: 0.5879 - accuracy: 0.7462 - val_loss: 0.5357 - val_accuracy: 0.9123\n",
      "Epoch 30/60\n",
      "13/13 [==============================] - 0s 5ms/step - loss: 0.5840 - accuracy: 0.7513 - val_loss: 0.5319 - val_accuracy: 0.9123\n",
      "Epoch 31/60\n",
      "13/13 [==============================] - 0s 4ms/step - loss: 0.5802 - accuracy: 0.7613 - val_loss: 0.5280 - val_accuracy: 0.9298\n",
      "Epoch 32/60\n",
      "13/13 [==============================] - 0s 4ms/step - loss: 0.5763 - accuracy: 0.7814 - val_loss: 0.5247 - val_accuracy: 0.9298\n",
      "Epoch 33/60\n",
      "13/13 [==============================] - 0s 4ms/step - loss: 0.5723 - accuracy: 0.7864 - val_loss: 0.5204 - val_accuracy: 0.9298\n",
      "Epoch 34/60\n",
      "13/13 [==============================] - 0s 4ms/step - loss: 0.5683 - accuracy: 0.7990 - val_loss: 0.5183 - val_accuracy: 0.9415\n",
      "Epoch 35/60\n",
      "13/13 [==============================] - 0s 4ms/step - loss: 0.5642 - accuracy: 0.8015 - val_loss: 0.5132 - val_accuracy: 0.9415\n",
      "Epoch 36/60\n",
      "13/13 [==============================] - 0s 5ms/step - loss: 0.5599 - accuracy: 0.8065 - val_loss: 0.5092 - val_accuracy: 0.9474\n",
      "Epoch 37/60\n",
      "13/13 [==============================] - 0s 5ms/step - loss: 0.5555 - accuracy: 0.8191 - val_loss: 0.5060 - val_accuracy: 0.9415\n",
      "Epoch 38/60\n",
      "13/13 [==============================] - 0s 5ms/step - loss: 0.5511 - accuracy: 0.8241 - val_loss: 0.5008 - val_accuracy: 0.9415\n",
      "Epoch 39/60\n",
      "13/13 [==============================] - 0s 6ms/step - loss: 0.5466 - accuracy: 0.8241 - val_loss: 0.4972 - val_accuracy: 0.9415\n",
      "Epoch 40/60\n",
      "13/13 [==============================] - 0s 5ms/step - loss: 0.5422 - accuracy: 0.8291 - val_loss: 0.4932 - val_accuracy: 0.9415\n",
      "Epoch 41/60\n",
      "13/13 [==============================] - 0s 4ms/step - loss: 0.5375 - accuracy: 0.8417 - val_loss: 0.4912 - val_accuracy: 0.9298\n",
      "Epoch 42/60\n",
      "13/13 [==============================] - 0s 6ms/step - loss: 0.5328 - accuracy: 0.8467 - val_loss: 0.4872 - val_accuracy: 0.9298\n",
      "Epoch 43/60\n",
      "13/13 [==============================] - 0s 6ms/step - loss: 0.5282 - accuracy: 0.8492 - val_loss: 0.4828 - val_accuracy: 0.9298\n",
      "Epoch 44/60\n",
      "13/13 [==============================] - 0s 7ms/step - loss: 0.5234 - accuracy: 0.8492 - val_loss: 0.4770 - val_accuracy: 0.9298\n",
      "Epoch 45/60\n",
      "13/13 [==============================] - 0s 6ms/step - loss: 0.5187 - accuracy: 0.8492 - val_loss: 0.4720 - val_accuracy: 0.9298\n",
      "Epoch 46/60\n",
      "13/13 [==============================] - 0s 6ms/step - loss: 0.5140 - accuracy: 0.8543 - val_loss: 0.4669 - val_accuracy: 0.9298\n",
      "Epoch 47/60\n",
      "13/13 [==============================] - 0s 6ms/step - loss: 0.5090 - accuracy: 0.8518 - val_loss: 0.4638 - val_accuracy: 0.9357\n",
      "Epoch 48/60\n",
      "13/13 [==============================] - 0s 5ms/step - loss: 0.5042 - accuracy: 0.8618 - val_loss: 0.4598 - val_accuracy: 0.9357\n",
      "Epoch 49/60\n",
      "13/13 [==============================] - 0s 4ms/step - loss: 0.4995 - accuracy: 0.8618 - val_loss: 0.4539 - val_accuracy: 0.9357\n",
      "Epoch 50/60\n",
      "13/13 [==============================] - 0s 4ms/step - loss: 0.4946 - accuracy: 0.8643 - val_loss: 0.4512 - val_accuracy: 0.9357\n",
      "Epoch 51/60\n",
      "13/13 [==============================] - 0s 4ms/step - loss: 0.4897 - accuracy: 0.8719 - val_loss: 0.4481 - val_accuracy: 0.9298\n",
      "Epoch 52/60\n",
      "13/13 [==============================] - 0s 4ms/step - loss: 0.4849 - accuracy: 0.8744 - val_loss: 0.4444 - val_accuracy: 0.9240\n",
      "Epoch 53/60\n",
      "13/13 [==============================] - 0s 4ms/step - loss: 0.4799 - accuracy: 0.8769 - val_loss: 0.4395 - val_accuracy: 0.9240\n",
      "Epoch 54/60\n",
      "13/13 [==============================] - 0s 5ms/step - loss: 0.4751 - accuracy: 0.8794 - val_loss: 0.4362 - val_accuracy: 0.9240\n",
      "Epoch 55/60\n",
      "13/13 [==============================] - 0s 4ms/step - loss: 0.4702 - accuracy: 0.8794 - val_loss: 0.4299 - val_accuracy: 0.9240\n",
      "Epoch 56/60\n",
      "13/13 [==============================] - 0s 4ms/step - loss: 0.4656 - accuracy: 0.8769 - val_loss: 0.4227 - val_accuracy: 0.9240\n",
      "Epoch 57/60\n",
      "13/13 [==============================] - 0s 5ms/step - loss: 0.4606 - accuracy: 0.8794 - val_loss: 0.4185 - val_accuracy: 0.9240\n",
      "Epoch 58/60\n",
      "13/13 [==============================] - 0s 4ms/step - loss: 0.4558 - accuracy: 0.8794 - val_loss: 0.4163 - val_accuracy: 0.9240\n",
      "Epoch 59/60\n",
      "13/13 [==============================] - 0s 5ms/step - loss: 0.4510 - accuracy: 0.8844 - val_loss: 0.4133 - val_accuracy: 0.9298\n",
      "Epoch 60/60\n",
      "13/13 [==============================] - 0s 5ms/step - loss: 0.4463 - accuracy: 0.8920 - val_loss: 0.4096 - val_accuracy: 0.9298\n"
     ]
    },
    {
     "data": {
      "text/plain": [
       "<Figure size 640x480 with 1 Axes>"
      ],
      "image/png": "[encoded data removed]"
     },
     "metadata": {},
     "output_type": "display_data"
    }
   ],
   "execution_count": 5
  },
  {
   "metadata": {
    "ExecuteTime": {
     "end_time": "2024-06-25T11:56:04.264657Z",
     "start_time": "2024-06-25T11:56:04.058002Z"
    }
   },
   "cell_type": "code",
   "source": [
    "y_pre = classifier.predict(transformed_X_test)\n",
    "y_pre = np.argmax(y_pre, axis=1)\n",
    "confusion_matrix(y_pre , np.argmax(y_test, axis=1))"
   ],
   "id": "c1374118641d4c4c",
   "outputs": [
    {
     "name": "stdout",
     "output_type": "stream",
     "text": [
      "6/6 [==============================] - 0s 1ms/step\n"
     ]
    },
    {
     "data": {
      "text/plain": [
       "array([[ 32,   5],\n",
       "       [  7, 127]], dtype=int64)"
      ]
     },
     "execution_count": 6,
     "metadata": {},
     "output_type": "execute_result"
    }
   ],
   "execution_count": 6
  }
 ],
 "metadata": {
  "kernelspec": {
   "display_name": "Python 3",
   "language": "python",
   "name": "python3"
  },
  "language_info": {
   "codemirror_mode": {
    "name": "ipython",
    "version": 2
   },
   "file_extension": ".py",
   "mimetype": "text/x-python",
   "name": "python",
   "nbconvert_exporter": "python",
   "pygments_lexer": "ipython2",
   "version": "2.7.6"
  }
 },
 "nbformat": 4,
 "nbformat_minor": 5
}
